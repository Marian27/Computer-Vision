{
  "cells": [
    {
      "cell_type": "code",
      "execution_count": 1,
      "metadata": {
        "colab": {
          "base_uri": "https://localhost:8080/"
        },
        "id": "Gh2BqpQqzmwf",
        "outputId": "26b26228-bb7c-483d-b921-78fec546ebcc"
      },
      "outputs": [
        {
          "output_type": "stream",
          "name": "stdout",
          "text": [
            "Mounted at /content/drive\n"
          ]
        }
      ],
      "source": [
        "from google.colab import drive\n",
        "drive.mount(\"/content/drive\")"
      ]
    },
    {
      "cell_type": "code",
      "execution_count": 2,
      "metadata": {
        "id": "L4y2ah6zz-nU"
      },
      "outputs": [],
      "source": [
        "FOLDERNAME = \"cs231n/assignments/assignment2/\"\n",
        "assert FOLDERNAME is not None"
      ]
    },
    {
      "cell_type": "code",
      "execution_count": 3,
      "metadata": {
        "id": "47IsC-4E0Xr1"
      },
      "outputs": [],
      "source": [
        "import sys\n",
        "sys.path.append(\"/content/drive/My Drive/{}\".format(FOLDERNAME))"
      ]
    },
    {
      "cell_type": "code",
      "execution_count": 4,
      "metadata": {
        "colab": {
          "base_uri": "https://localhost:8080/"
        },
        "id": "fEgWq3Ci0zDx",
        "outputId": "5ba07387-9258-42e9-8afe-155336a8e0ca"
      },
      "outputs": [
        {
          "output_type": "stream",
          "name": "stdout",
          "text": [
            "/content/drive/My Drive/cs231n/assignments/assignment2/cs231n/datasets\n",
            "/content/drive/My Drive/cs231n/assignments/assignment2\n"
          ]
        }
      ],
      "source": [
        "%cd /content/drive/My\\ Drive/$FOLDERNAME/cs231n/datasets/\n",
        "!bash get_datasets.sh\n",
        "%cd /content/drive/My\\ Drive/$FOLDERNAME"
      ]
    },
    {
      "cell_type": "code",
      "execution_count": 5,
      "metadata": {
        "colab": {
          "base_uri": "https://localhost:8080/"
        },
        "id": "gxK26Z2B2KOK",
        "outputId": "3e9eaa06-aae9-44ec-f5b3-b11db7298b9b"
      },
      "outputs": [
        {
          "output_type": "stream",
          "name": "stdout",
          "text": [
            "using device: cuda\n"
          ]
        }
      ],
      "source": [
        "import torch\n",
        "import torch.nn as nn\n",
        "import torch.optim as optim\n",
        "from torch.utils.data import DataLoader\n",
        "from torch.utils.data import sampler\n",
        "\n",
        "import torchvision.datasets as dset\n",
        "import torchvision.transforms as T\n",
        "\n",
        "import numpy as np\n",
        "import torch.nn.functional as F\n",
        "\n",
        "USE_GPU = True\n",
        "dtype = torch.float32\n",
        "\n",
        "if USE_GPU and torch.cuda.is_available():\n",
        "  device = torch.device(\"cuda\")\n",
        "else:\n",
        "  device = torch.device(\"cpu\")\n",
        "\n",
        "print_every = 100\n",
        "\n",
        "print(\"using device:\", device)"
      ]
    },
    {
      "cell_type": "code",
      "execution_count": 6,
      "metadata": {
        "colab": {
          "base_uri": "https://localhost:8080/"
        },
        "id": "XGKzVDvuGLJy",
        "outputId": "c6f60bcf-50b6-4609-8536-db35f3ef427a"
      },
      "outputs": [
        {
          "output_type": "stream",
          "name": "stdout",
          "text": [
            "Files already downloaded and verified\n",
            "Files already downloaded and verified\n",
            "Files already downloaded and verified\n"
          ]
        }
      ],
      "source": [
        "NUM_TRAIN = 49000\n",
        "\n",
        "transform = T.Compose([T.ToTensor(),\n",
        "                       T.Normalize((0.4914, 0.4822, 0.4465), (0.2023, 0.1994, 0.2010))\n",
        "            ])\n",
        "\n",
        "cifar10_train = dset.CIFAR10(\"./cs231n/datasets\", train=True, download=True, transform=transform)\n",
        "loader_train = DataLoader(cifar10_train, batch_size=64, sampler=sampler.SubsetRandomSampler(range(NUM_TRAIN)))\n",
        "\n",
        "cifar10_val = dset.CIFAR10(\"./cs231n/datasets\", train=True, download=True, transform=transform)\n",
        "loader_val = DataLoader(cifar10_val, batch_size=64, sampler=sampler.SubsetRandomSampler(range(NUM_TRAIN, 50000)))\n",
        "\n",
        "cifar10_test = dset.CIFAR10(\"./cs231n/datasets\", train = False, download = True, transform=transform)\n",
        "loader_test = DataLoader(cifar10_test, batch_size=64)"
      ]
    },
    {
      "cell_type": "code",
      "execution_count": 7,
      "metadata": {
        "id": "FmUHwRLDMyYE"
      },
      "outputs": [],
      "source": [
        "class FourLayerConvNet(nn.Module):\n",
        "  def __init__(self, in_channel, channel_1, channel_2, hidden_dim, num_classes):\n",
        "    super().__init__()\n",
        "\n",
        "    self.conv_1 = nn.Conv2d(in_channel, channel_1, kernel_size=5, padding=2)\n",
        "    self.bn1 = nn.BatchNorm2d(channel_1)\n",
        "    self.relu_1 = nn.ReLU()\n",
        "    nn.init.kaiming_normal_(self.conv_1.weight)\n",
        "\n",
        "    self.conv_2 = nn.Conv2d(channel_1, channel_2, kernel_size=3, padding=1)\n",
        "    self.bn2 = nn.BatchNorm2d(channel_2)\n",
        "    self.relu_2 = nn.ReLU()\n",
        "    nn.init.kaiming_normal_(self.conv_2.weight)\n",
        "\n",
        "    self.fc_1 = nn.Linear(channel_2*32*32, hidden_dim)\n",
        "    self.flat = nn.Flatten()\n",
        "    self.fc_bn = nn.BatchNorm1d(hidden_dim)\n",
        "    self.relu1 = nn.ReLU()\n",
        "    nn.init.kaiming_normal_(self.fc_1.weight)\n",
        "\n",
        "    self.fc_2 = nn.Linear(hidden_dim, num_classes)\n",
        "    nn.init.kaiming_normal_(self.fc_2.weight)\n",
        "\n",
        "  def forward(self, x):\n",
        "\n",
        "    x = self.conv_1(x)\n",
        "    x = self.bn1(x)\n",
        "    x = self.relu_1(x)\n",
        "    x = self.conv_2(x)\n",
        "    x = self.bn2(x)\n",
        "    x = self.relu_2(x)\n",
        "    x = self.flat(x)\n",
        "    x = self.fc_1(x)\n",
        "    x = self.fc_bn(x)\n",
        "    x = self.relu1(x)\n",
        "    scores = self.fc_2(x)\n",
        "    return scores\n"
      ]
    },
    {
      "cell_type": "code",
      "execution_count": 8,
      "metadata": {
        "colab": {
          "base_uri": "https://localhost:8080/"
        },
        "id": "Ndg8fSOH_gPC",
        "outputId": "93e039bb-210f-4731-8c43-c5c3c38614ef"
      },
      "outputs": [
        {
          "output_type": "stream",
          "name": "stdout",
          "text": [
            "torch.Size([64, 10])\n"
          ]
        }
      ],
      "source": [
        "def modeltest():\n",
        "  model = FourLayerConvNet(3, 12, 8, 100, 10)\n",
        "  x = torch.zeros((64, 3, 32, 32), dtype=dtype)\n",
        "  scores = model(x)\n",
        "  print(scores.size())\n",
        "\n",
        "modeltest()"
      ]
    },
    {
      "cell_type": "code",
      "execution_count": 14,
      "metadata": {
        "id": "cpAFT6zPF5uQ"
      },
      "outputs": [],
      "source": [
        "def check_accuracy(loader, model):\n",
        "  if loader.dataset.train:\n",
        "    print(\"Checking accuracy on validation set\")\n",
        "  else:\n",
        "    print(\"Checking accuracy on test set\")\n",
        "  num_correct, num_samples = 0, 0\n",
        "  model.to(device=device)\n",
        "  model.eval()\n",
        "  with torch.no_grad():\n",
        "    for x, y in loader:\n",
        "      x = x.to(device=device, dtype=dtype)\n",
        "      y = y.to(device=device, dtype=torch.long)\n",
        "      scores = model(x)\n",
        "      _, preds = scores.max(1)\n",
        "      num_correct += (y==preds).sum()\n",
        "      num_samples += preds.size(0)\n",
        "    acc = float(num_correct/num_samples)\n",
        "    print((\"Got %d / %d correct (%.2f)\") % (num_correct, num_samples, acc*100))\n",
        "  return acc"
      ]
    },
    {
      "cell_type": "code",
      "execution_count": 16,
      "metadata": {
        "colab": {
          "base_uri": "https://localhost:8080/"
        },
        "id": "HJFqZ7Aw6TIS",
        "outputId": "c0906b07-4913-4c86-bad8-dc948e7b638d"
      },
      "outputs": [
        {
          "output_type": "stream",
          "name": "stdout",
          "text": [
            "Checking accuracy on validation set\n",
            "Got 98 / 1000 correct (9.80)\n"
          ]
        },
        {
          "output_type": "execute_result",
          "data": {
            "text/plain": [
              "0.09800000488758087"
            ]
          },
          "metadata": {},
          "execution_count": 16
        }
      ],
      "source": [
        "check_accuracy(loader_val, FourLayerConvNet(3, 12, 8, 10, 10))"
      ]
    },
    {
      "cell_type": "code",
      "execution_count": 17,
      "metadata": {
        "id": "xo51dMjDS4bW"
      },
      "outputs": [],
      "source": [
        "def train(model, optimizer, epochs=1):\n",
        "  model = model.to(device=device)\n",
        "  for e in range(epochs):\n",
        "    for t, (x,y) in enumerate(loader_train):\n",
        "      model.train()\n",
        "      x = x.to(device=device, dtype=dtype)\n",
        "      y = y.to(device=device, dtype=torch.long)\n",
        "\n",
        "      scores = model(x)\n",
        "      loss = F.cross_entropy(scores, y)\n",
        "\n",
        "      optimizer.zero_grad()\n",
        "      loss.backward()\n",
        "      optimizer.step()\n",
        "\n",
        "      if t%print_every == 0:\n",
        "        print(\"Iteration %d, loss = %.4f\" % (t, loss.item()))\n",
        "        check_accuracy(loader_val, model)"
      ]
    },
    {
      "cell_type": "code",
      "execution_count": 18,
      "metadata": {
        "id": "Baks98qTxEfv"
      },
      "outputs": [],
      "source": [
        "learning_rate = 3e-3\n",
        "channel_1 = 64\n",
        "channel_2 = 32\n",
        "hidden_dim = 10"
      ]
    },
    {
      "cell_type": "code",
      "source": [
        "model = FourLayerConvNet(3, channel_1, channel_2, hidden_dim, num_classes=10)\n",
        "optimizer = optim.SGD(model.parameters(), lr=learning_rate)"
      ],
      "metadata": {
        "id": "oXV6V2F7bJKm"
      },
      "execution_count": 19,
      "outputs": []
    },
    {
      "cell_type": "code",
      "source": [
        "train(model, optimizer, epochs=1)"
      ],
      "metadata": {
        "colab": {
          "base_uri": "https://localhost:8080/"
        },
        "id": "F61knrspbV4M",
        "outputId": "82b3c729-c6a7-47b1-d536-bddcef1e386e"
      },
      "execution_count": 20,
      "outputs": [
        {
          "output_type": "stream",
          "name": "stdout",
          "text": [
            "Iteration 0, loss = 2.7906\n",
            "Checking accuracy on validation set\n",
            "Got 100 / 1000 correct (10.00)\n",
            "Iteration 100, loss = 1.9614\n",
            "Checking accuracy on validation set\n",
            "Got 282 / 1000 correct (28.20)\n",
            "Iteration 200, loss = 1.7944\n",
            "Checking accuracy on validation set\n",
            "Got 336 / 1000 correct (33.60)\n",
            "Iteration 300, loss = 1.8418\n",
            "Checking accuracy on validation set\n",
            "Got 359 / 1000 correct (35.90)\n",
            "Iteration 400, loss = 1.7112\n",
            "Checking accuracy on validation set\n",
            "Got 386 / 1000 correct (38.60)\n",
            "Iteration 500, loss = 1.7899\n",
            "Checking accuracy on validation set\n",
            "Got 406 / 1000 correct (40.60)\n",
            "Iteration 600, loss = 1.7574\n",
            "Checking accuracy on validation set\n",
            "Got 439 / 1000 correct (43.90)\n",
            "Iteration 700, loss = 1.6725\n",
            "Checking accuracy on validation set\n",
            "Got 437 / 1000 correct (43.70)\n"
          ]
        }
      ]
    },
    {
      "cell_type": "code",
      "source": [],
      "metadata": {
        "id": "ZKm7G30obde-"
      },
      "execution_count": null,
      "outputs": []
    }
  ],
  "metadata": {
    "accelerator": "GPU",
    "colab": {
      "provenance": []
    },
    "kernelspec": {
      "display_name": "Python 3",
      "name": "python3"
    },
    "language_info": {
      "name": "python"
    }
  },
  "nbformat": 4,
  "nbformat_minor": 0
}